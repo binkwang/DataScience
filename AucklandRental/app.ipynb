{
 "cells": [
  {
   "cell_type": "code",
   "execution_count": 1,
   "id": "95485060",
   "metadata": {},
   "outputs": [
    {
     "name": "stderr",
     "output_type": "stream",
     "text": [
      "/Users/bwang/Desktop/py/HouseRent/html2text.py:95: SyntaxWarning: \"is not\" with a literal. Did you mean \"!=\"?\n",
      "  if c is not ' ' and c is not '  ':\n",
      "/Users/bwang/Desktop/py/HouseRent/html2text.py:95: SyntaxWarning: \"is not\" with a literal. Did you mean \"!=\"?\n",
      "  if c is not ' ' and c is not '  ':\n",
      "/Users/bwang/Desktop/py/HouseRent/html2text.py:96: SyntaxWarning: \"is\" with a literal. Did you mean \"==\"?\n",
      "  return c is ' '\n"
     ]
    }
   ],
   "source": [
    "from DataSource import DataSource"
   ]
  },
  {
   "cell_type": "code",
   "execution_count": 2,
   "id": "4a72ced4",
   "metadata": {},
   "outputs": [
    {
     "name": "stdout",
     "output_type": "stream",
     "text": [
      "3146431275\n",
      "3178437180\n",
      "3177395014\n",
      "3034399047\n",
      "3175922864\n",
      "3175709605\n",
      "3175572536\n",
      "3170994768\n",
      "3170722296\n",
      "3160703763\n",
      "3158649260\n",
      "3157900368\n",
      "3155379534\n",
      "3145084774\n",
      "3145035964\n",
      "3128329747\n",
      "3109791469\n",
      "3108922032\n",
      "3167716234\n",
      "3100452062\n",
      "3053228035\n",
      "3072431416\n",
      "            Id Bedrooms Bathrooms  \\\n",
      "0   3146431275        1         1   \n",
      "1   3178437180        2         1   \n",
      "2   3177395014        1         1   \n",
      "3   3034399047        3         2   \n",
      "4   3175922864        3         2   \n",
      "5   3175709605        1         1   \n",
      "6   3175572536        3         2   \n",
      "7   3170994768        3         3   \n",
      "8   3170722296        1         1   \n",
      "9   3160703763        3         2   \n",
      "10  3158649260        3         3   \n",
      "11  3157900368        3         2   \n",
      "12  3155379534        3         2   \n",
      "13  3145084774        4         4   \n",
      "14  3145035964        1         1   \n",
      "15  3128329747        1         1   \n",
      "16  3109791469        3         2   \n",
      "17  3108922032        3         2   \n",
      "18  3167716234        1         1   \n",
      "19  3100452062        1         1   \n",
      "20  3053228035        2         1   \n",
      "21  3072431416        2         1   \n",
      "\n",
      "                                             Address   Rent   ListedDate  \n",
      "0      10/27 Cheshire Street, Parnell, Auckland City    525  Tue, 22 Jun  \n",
      "1          1-12 Earle street, Parnell, Auckland City    595        Today  \n",
      "2             206/10 Ronayne, Parnell, Auckland City    575    Yesterday  \n",
      "3         20 Sudbury Terrace, Parnell, Auckland City    695  Tue, 30 Mar  \n",
      "4          303/10 Fox Street, Parnell, Auckland City    900  Tue, 13 Jul  \n",
      "5         57 Mahuhu Crescent, Parnell, Auckland City    495  Tue, 13 Jul  \n",
      "6       607/8 Heather Street, Parnell, Auckland City    750  Tue, 13 Jul  \n",
      "7        19A Cathedral Place, Parnell, Auckland City  1,150   Fri, 9 Jul  \n",
      "8       9/18 St Stephens Ave, Parnell, Auckland City    520   Fri, 9 Jul  \n",
      "9      42a Glanville Terrace, Parnell, Auckland City  2,450   Fri, 2 Jul  \n",
      "10    4D/10 Augustus Terrace, Parnell, Auckland City  1,300  Wed, 30 Jun  \n",
      "11          7 Churton Street, Parnell, Auckland City  1,500  Wed, 30 Jun  \n",
      "12         Y&/30 York Street, Parnell, Auckland City  1,250  Mon, 28 Jun  \n",
      "13        23E Windsor Street, Parnell, Auckland City  1,600  Mon, 24 May  \n",
      "14      9/27 Cheshire Street, Parnell, Auckland City    530  Mon, 21 Jun  \n",
      "15     23a Birdwood Crescent, Parnell, Auckland City    550   Wed, 9 Jun  \n",
      "16       26C Cheshire Street, Parnell, Auckland City  1,550  Wed, 26 May  \n",
      "17         103/10 Fox Street, Parnell, Auckland City    950  Tue, 25 May  \n",
      "18                            Parnell, Auckland City    580  Sun, 23 May  \n",
      "19       12/7 Claybrook Road, Parnell, Auckland City    330  Wed, 19 May  \n",
      "20        5/28 Ruskin Street, Parnell, Auckland City    550  Wed, 14 Apr  \n",
      "21  1/10 St Georges Bay Road, Parnell, Auckland City    650  Wed, 28 Apr  \n"
     ]
    }
   ],
   "source": [
    "source = DataSource()\n",
    "source.to_csv(\"data\", \"rent.csv\")"
   ]
  },
  {
   "cell_type": "code",
   "execution_count": 3,
   "id": "68cfd14a",
   "metadata": {},
   "outputs": [],
   "source": [
    "import pandas as pd\n",
    "df = pd.read_csv('data/rent.csv')"
   ]
  },
  {
   "cell_type": "code",
   "execution_count": 4,
   "id": "5bda4bf8",
   "metadata": {},
   "outputs": [
    {
     "data": {
      "text/html": [
       "<div>\n",
       "<style scoped>\n",
       "    .dataframe tbody tr th:only-of-type {\n",
       "        vertical-align: middle;\n",
       "    }\n",
       "\n",
       "    .dataframe tbody tr th {\n",
       "        vertical-align: top;\n",
       "    }\n",
       "\n",
       "    .dataframe thead th {\n",
       "        text-align: right;\n",
       "    }\n",
       "</style>\n",
       "<table border=\"1\" class=\"dataframe\">\n",
       "  <thead>\n",
       "    <tr style=\"text-align: right;\">\n",
       "      <th></th>\n",
       "      <th>Id</th>\n",
       "      <th>Bedrooms</th>\n",
       "      <th>Bathrooms</th>\n",
       "      <th>Address</th>\n",
       "      <th>Rent</th>\n",
       "      <th>ListedDate</th>\n",
       "    </tr>\n",
       "  </thead>\n",
       "  <tbody>\n",
       "    <tr>\n",
       "      <th>0</th>\n",
       "      <td>3146431275</td>\n",
       "      <td>1</td>\n",
       "      <td>1</td>\n",
       "      <td>10/27 Cheshire Street, Parnell, Auckland City</td>\n",
       "      <td>525</td>\n",
       "      <td>Tue, 22 Jun</td>\n",
       "    </tr>\n",
       "    <tr>\n",
       "      <th>1</th>\n",
       "      <td>3178437180</td>\n",
       "      <td>2</td>\n",
       "      <td>1</td>\n",
       "      <td>1-12 Earle street, Parnell, Auckland City</td>\n",
       "      <td>595</td>\n",
       "      <td>Today</td>\n",
       "    </tr>\n",
       "    <tr>\n",
       "      <th>2</th>\n",
       "      <td>3177395014</td>\n",
       "      <td>1</td>\n",
       "      <td>1</td>\n",
       "      <td>206/10 Ronayne, Parnell, Auckland City</td>\n",
       "      <td>575</td>\n",
       "      <td>Yesterday</td>\n",
       "    </tr>\n",
       "    <tr>\n",
       "      <th>3</th>\n",
       "      <td>3034399047</td>\n",
       "      <td>3</td>\n",
       "      <td>2</td>\n",
       "      <td>20 Sudbury Terrace, Parnell, Auckland City</td>\n",
       "      <td>695</td>\n",
       "      <td>Tue, 30 Mar</td>\n",
       "    </tr>\n",
       "    <tr>\n",
       "      <th>4</th>\n",
       "      <td>3175922864</td>\n",
       "      <td>3</td>\n",
       "      <td>2</td>\n",
       "      <td>303/10 Fox Street, Parnell, Auckland City</td>\n",
       "      <td>900</td>\n",
       "      <td>Tue, 13 Jul</td>\n",
       "    </tr>\n",
       "  </tbody>\n",
       "</table>\n",
       "</div>"
      ],
      "text/plain": [
       "           Id  Bedrooms  Bathrooms  \\\n",
       "0  3146431275         1          1   \n",
       "1  3178437180         2          1   \n",
       "2  3177395014         1          1   \n",
       "3  3034399047         3          2   \n",
       "4  3175922864         3          2   \n",
       "\n",
       "                                         Address Rent   ListedDate  \n",
       "0  10/27 Cheshire Street, Parnell, Auckland City  525  Tue, 22 Jun  \n",
       "1      1-12 Earle street, Parnell, Auckland City  595        Today  \n",
       "2         206/10 Ronayne, Parnell, Auckland City  575    Yesterday  \n",
       "3     20 Sudbury Terrace, Parnell, Auckland City  695  Tue, 30 Mar  \n",
       "4      303/10 Fox Street, Parnell, Auckland City  900  Tue, 13 Jul  "
      ]
     },
     "execution_count": 4,
     "metadata": {},
     "output_type": "execute_result"
    }
   ],
   "source": [
    "df.head()"
   ]
  },
  {
   "cell_type": "code",
   "execution_count": null,
   "id": "1ede5f76",
   "metadata": {},
   "outputs": [],
   "source": []
  }
 ],
 "metadata": {
  "kernelspec": {
   "display_name": "Python 3",
   "language": "python",
   "name": "python3"
  },
  "language_info": {
   "codemirror_mode": {
    "name": "ipython",
    "version": 3
   },
   "file_extension": ".py",
   "mimetype": "text/x-python",
   "name": "python",
   "nbconvert_exporter": "python",
   "pygments_lexer": "ipython3",
   "version": "3.9.5"
  }
 },
 "nbformat": 4,
 "nbformat_minor": 5
}
